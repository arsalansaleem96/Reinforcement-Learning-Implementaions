{
 "cells": [
  {
   "cell_type": "code",
   "execution_count": 74,
   "id": "21197fbd",
   "metadata": {},
   "outputs": [],
   "source": [
    "import gym\n",
    "import gym_chess\n",
    "import chess\n",
    "from gym_chess.alphazero import MoveEncoding\n",
    "import numpy as np\n",
    "import random\n",
    "import pandas as pd\n",
    "import seaborn as sns\n",
    "import matplotlib.pyplot as plt\n",
    "from IPython.display import clear_output\n",
    "import tensorflow as tf"
   ]
  },
  {
   "cell_type": "code",
   "execution_count": 75,
   "id": "71930e48",
   "metadata": {},
   "outputs": [],
   "source": [
    "env = gym.make(\"Chess-v0\")\n",
    "env = MoveEncoding(env)\n",
    "INPUT_DIM = 8*8\n",
    "OUTPUT_DIM = 8*8*73"
   ]
  },
  {
   "cell_type": "code",
   "execution_count": 76,
   "id": "36bce9ba",
   "metadata": {},
   "outputs": [],
   "source": [
    "def calculateAvgReward(num_episodes,avg_num_episodes,rewards_all_episodes):\n",
    "        results = []\n",
    "        rewards_per_thousand_episodes = np.split(np.array(rewards_all_episodes),num_episodes/avg_num_episodes)\n",
    "        count = avg_num_episodes\n",
    "        for r in rewards_per_thousand_episodes:\n",
    "            sum_of_rewards = int(sum(r))\n",
    "            results.append({\"episode\":count,\"reward\":sum_of_rewards})\n",
    "            count += avg_num_episodes\n",
    "        return results       \n",
    "        \n",
    "def createLinePlotForRewards(results,avg_num_episodes):\n",
    "    df = pd.DataFrame(results)\n",
    "    fig, ax1 = plt.subplots(figsize=(12, 8))\n",
    "    sns.lineplot(data=df, x=\"episode\", y=\"reward\", ax=ax1, ci=None)\n",
    "    ax1.set_ylabel('Rewards',fontsize=13)\n",
    "    ax1.set_xlabel('Episodes',fontsize=13)\n",
    "    ax1.set_title(\"Average reward per \"+str(avg_num_episodes)+\" episodes\",fontsize=16)"
   ]
  },
  {
   "cell_type": "code",
   "execution_count": 77,
   "id": "c98fb925",
   "metadata": {},
   "outputs": [],
   "source": [
    "class DQNAgent:\n",
    "    def __init__(self,num_episodes,avg_num_episodes):\n",
    "        self.learning_rate = 0.1\n",
    "        self.min_exploration_rate = 0.01\n",
    "        self.max_exploration_rate = 1\n",
    "        self.exploration_decay_rate = 0.9995\n",
    "        self.num_episodes = num_episodes\n",
    "        self.avg_num_episodes = avg_num_episodes\n",
    "        self.reward = 1\n",
    "        self.gamma = 0.95 \n",
    "        self.exploration_rate = 1\n",
    "        self.model = self.build_model()\n",
    "        self.opt = tf.optimizers.Adam(self.learning_rate)\n",
    "        \n",
    "    def build_model(self):\n",
    "        inputs = tf.keras.layers.Input(INPUT_DIM)\n",
    "        net = tf.keras.layers.Dense(64,activation='tanh')(inputs)\n",
    "        net = tf.keras.layers.Dense(64,activation='tanh')(net)\n",
    "        outputs = tf.keras.layers.Dense(OUTPUT_DIM)(net)\n",
    "        model = tf.keras.Model(inputs,outputs)\n",
    "        return model\n",
    "    \n",
    "    def getCurrentState(self,state):\n",
    "        bstate = np.zeros(64)\n",
    "        for i in range(64):\n",
    "            p = state.piece_at(i)\n",
    "            if p is not None:\n",
    "                bstate[i] = {\"P\": 1, \"N\": 2, \"B\": 3, \"R\": 4, \"Q\": 5, \"K\": 6, \\\n",
    "                     \"p\": 9, \"n\":10, \"b\":11, \"r\":12, \"q\":13, \"k\": 14}[p.symbol()]\n",
    "        return np.array([bstate])\n",
    "    \n",
    "    def loss_grads(self,state, target):\n",
    "        with tf.GradientTape(persistent=True) as tape:\n",
    "            pred = self.model(state)\n",
    "            loss = tf.reduce_mean(tf.square(pred-target))\n",
    "        grads = tape.gradient(loss,self.model.trainable_variables)\n",
    "        return loss, grads\n",
    "    \n",
    "    def actRandom(self,legal_moves):\n",
    "        return env.encode(random.choice(list(legal_moves)))\n",
    "    \n",
    "    def act(self,state,legal_moves):\n",
    "        self.exploration_rate_threshold = random.uniform(0, 1)\n",
    "        if self.exploration_rate_threshold >= self.exploration_rate:\n",
    "            action = env.encode(random.choice(list(legal_moves))) # Exploration\n",
    "        else:\n",
    "            act_values = self.model.predict(state)\n",
    "            contains_nan = np.isnan(act_values[0]).any()\n",
    "            if contains_nan:\n",
    "                print('NN broken or None')\n",
    "                return -1\n",
    "            actions = []\n",
    "            for move in list(legal_moves):\n",
    "                actions.append(env.encode(move))\n",
    "            for idx in range(len(act_values[0])):\n",
    "                if idx not in actions:\n",
    "                    act_values[0][idx] = -np.inf\n",
    "            action = np.argmax(act_values[0]) # Exploitation\n",
    "        return action  # returns action\n",
    "    \n",
    "    def play(self):\n",
    "        rewards_all_episodes = []\n",
    "        for episode in range(num_episodes):\n",
    "            \n",
    "            finished = False\n",
    "            rewards_current_episode = 0\n",
    "            state = env.reset()\n",
    "            \n",
    "            clear_output(wait=True)\n",
    "            print(\"*****EPISODE \", episode+1, \"*****\\n\\n\\n\\n\")\n",
    "\n",
    "            while not finished:\n",
    "                if state.is_checkmate() or state.is_stalemate() or state.is_insufficient_material() or \\\n",
    "                    state.is_game_over() or state.can_claim_threefold_repetition() or state.can_claim_fifty_moves() or \\\n",
    "                    state.can_claim_draw() or state.is_fivefold_repetition() or state.is_seventyfive_moves():\n",
    "                    finished = True\n",
    "\n",
    "                if finished:\n",
    "                    break\n",
    "                else:\n",
    "                    if state.turn: ## White move\n",
    "                        nn_state = self.getCurrentState(state)\n",
    "                        current_action = self.act(nn_state,state.legal_moves)\n",
    "                    else:\n",
    "                        current_action = self.actRandom(state.legal_moves)\n",
    "                    \n",
    "                    new_state, reward, done, info = env.step(current_action)\n",
    "                    \n",
    "                    if new_state.turn: ## White move\n",
    "                        curr_state = self.getCurrentState(new_state)\n",
    "\n",
    "                        prev_state = nn_state\n",
    "                        prev_pred = self.model(prev_state)\n",
    "                        prev_action = tf.argmax(prev_pred)\n",
    "\n",
    "\n",
    "                        curr_pred = self.model(curr_state)\n",
    "\n",
    "                        curr_value = tf.reduce_sum(curr_pred)\n",
    "\n",
    "                        target = prev_pred.numpy()\n",
    "                        target[prev_action] = reward + self.gamma * curr_value\n",
    "\n",
    "                        loss,grads = self.loss_grads(prev_state, target)\n",
    "                        self.opt.apply_gradients(zip(grads,self.model.trainable_variables))\n",
    "\n",
    "                    state = new_state\n",
    "                    rewards_current_episode += reward\n",
    "                    \n",
    "                # Exploration rate decay\n",
    "                if self.exploration_rate > self.min_exploration_rate:\n",
    "                    self.exploration_rate *= self.exploration_decay_rate\n",
    "                    \n",
    "            rewards_all_episodes.append(rewards_current_episode)\n",
    "        return self.num_episodes,self.avg_num_episodes,rewards_all_episodes"
   ]
  },
  {
   "cell_type": "code",
   "execution_count": 78,
   "id": "1800ed02",
   "metadata": {},
   "outputs": [],
   "source": [
    "num_episodes = 1000\n",
    "avg_num_episodes = round(num_episodes/10)\n",
    "agent = DQNAgent(num_episodes,avg_num_episodes)"
   ]
  },
  {
   "cell_type": "code",
   "execution_count": 79,
   "id": "25f953e8",
   "metadata": {
    "scrolled": true
   },
   "outputs": [
    {
     "name": "stdout",
     "output_type": "stream",
     "text": [
      "*****EPISODE  1000 *****\n",
      "\n",
      "\n",
      "\n",
      "\n"
     ]
    }
   ],
   "source": [
    "num_episodes,avg_num_episodes,rewards_all_episodes = agent.play()"
   ]
  },
  {
   "cell_type": "code",
   "execution_count": 80,
   "id": "2830ced3",
   "metadata": {},
   "outputs": [
    {
     "data": {
      "image/png": "[encoded data removed]",
      "text/plain": [
       "<Figure size 864x576 with 1 Axes>"
      ]
     },
     "metadata": {
      "needs_background": "light"
     },
     "output_type": "display_data"
    }
   ],
   "source": [
    "results = calculateAvgReward(num_episodes,avg_num_episodes,rewards_all_episodes)\n",
    "createLinePlotForRewards(results,avg_num_episodes)"
   ]
  }
 ],
 "metadata": {
  "kernelspec": {
   "display_name": "Python 3",
   "language": "python",
   "name": "python3"
  },
  "language_info": {
   "codemirror_mode": {
    "name": "ipython",
    "version": 3
   },
   "file_extension": ".py",
   "mimetype": "text/x-python",
   "name": "python",
   "nbconvert_exporter": "python",
   "pygments_lexer": "ipython3",
   "version": "3.8.5"
  }
 },
 "nbformat": 4,
 "nbformat_minor": 5
}
