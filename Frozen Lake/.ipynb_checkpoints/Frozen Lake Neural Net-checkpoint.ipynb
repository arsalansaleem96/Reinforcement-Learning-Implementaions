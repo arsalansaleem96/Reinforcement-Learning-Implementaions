{
 "cells": [
  {
   "cell_type": "code",
   "execution_count": 1,
   "id": "84ab3f7c",
   "metadata": {},
   "outputs": [],
   "source": [
    "import numpy as np\n",
    "import random\n",
    "import time\n",
    "from IPython.display import clear_output\n",
    "import gym\n",
    "import pandas as pd\n",
    "import seaborn as sns\n",
    "import matplotlib.pyplot as plt\n",
    "import tensorflow as tf"
   ]
  },
  {
   "cell_type": "code",
   "execution_count": 2,
   "id": "882673f1",
   "metadata": {},
   "outputs": [],
   "source": [
    "env = gym.make(\"FrozenLake-v0\")\n",
    "INPUT_DIM = (1)\n",
    "OUTPUT_DIM = 4"
   ]
  },
  {
   "cell_type": "code",
   "execution_count": 3,
   "id": "ee3f9140",
   "metadata": {},
   "outputs": [],
   "source": [
    "def calculateAvgReward(num_episodes,avg_num_episodes,rewards_all_episodes):\n",
    "        results = []\n",
    "        rewards_per_thousand_episodes = np.split(np.array(rewards_all_episodes),num_episodes/avg_num_episodes)\n",
    "        count = avg_num_episodes\n",
    "        for r in rewards_per_thousand_episodes:\n",
    "#             avg_per_thousand_episode = str(sum(r/self.avg_num_episodes))\n",
    "            sum_of_rewards = sum(r/avg_num_episodes)\n",
    "            results.append({\"episode\":count,\"reward\":sum_of_rewards})\n",
    "            count += avg_num_episodes\n",
    "        return results\n",
    "    \n",
    "def createLinePlotForRewards(results,avg_num_episodes):\n",
    "        df = pd.DataFrame(results)\n",
    "        fig, ax1 = plt.subplots(figsize=(12, 8))\n",
    "        sns.lineplot(data=df, x=\"episode\", y=\"reward\", ax=ax1, ci=None)\n",
    "        ax1.set_ylabel('Rewards',fontsize=13)\n",
    "        ax1.set_xlabel('Episodes',fontsize=13)\n",
    "        ax1.set_title(\"Average reward per \"+str(avg_num_episodes)+\" episodes\",fontsize=16)"
   ]
  },
  {
   "cell_type": "code",
   "execution_count": 4,
   "id": "1b095339",
   "metadata": {},
   "outputs": [],
   "source": [
    "class DQNAgent:\n",
    "    def __init__(self):\n",
    "        self.num_episodes = 10000\n",
    "        self.avg_num_episodes = round(self.num_episodes/10)\n",
    "        self.learning_rate = 0.1\n",
    "        self.exploration_rate = 0.95\n",
    "        self.max_exploration_rate = 1\n",
    "        self.min_exploration_rate = 0.01\n",
    "        self.exploration_decay_rate = 0.9995\n",
    "        self.decay_rate = 0.95\n",
    "        self.model = self.build_model()\n",
    "        self.opt = tf.optimizers.SGD(self.learning_rate,momentum=0.9)\n",
    "        self.Hloss = tf.keras.losses.Huber()\n",
    "    \n",
    "    def build_model(self):\n",
    "        inputs = tf.keras.layers.Input(INPUT_DIM)\n",
    "        net = tf.keras.layers.Dense(64,activation='tanh')(inputs)\n",
    "        net = tf.keras.layers.Dense(64,activation='tanh')(net)\n",
    "        outputs = tf.keras.layers.Dense(OUTPUT_DIM)(net)\n",
    "        model = tf.keras.Model(inputs,outputs)\n",
    "        return model\n",
    "    def loss_grads(self,state, target):\n",
    "        with tf.GradientTape(persistent=True) as tape:\n",
    "            pred = self.model(np.array([np.array(state)]))\n",
    "#             loss = tf.reduce_mean(tf.square(pred-target))\n",
    "#             huber loss\n",
    "            loss = self.Hloss(target,pred)\n",
    "            \n",
    "        grads = tape.gradient(loss,self.model.trainable_variables)\n",
    "        return loss, grads\n",
    "\n",
    "    def act(self,state):\n",
    "        # Exploration-exploitation trade-off\n",
    "        self.exploration_rate_threshold = random.uniform(0, 1)\n",
    "        if self.exploration_rate_threshold > self.exploration_rate:\n",
    "            output = self.model(np.array([state]))[0]\n",
    "#             print('output:', output)\n",
    "            if np.isnan(output).any():\n",
    "                print('NN broken or None')\n",
    "                return -1\n",
    "            action = np.argmax(output) # Exploitation\n",
    "        else:\n",
    "            action = env.action_space.sample() # Exploration\n",
    "            \n",
    "        return action\n",
    "    \n",
    "    def nural_net(self):\n",
    "    \n",
    "        rewards_all_episodes = []\n",
    "        EMA = 0\n",
    "        EMA_alpha = 0.001\n",
    "        EMVar = 1\n",
    "        state_max = 15\n",
    "        \n",
    "        # Q-Learning algorithm\n",
    "        for episode in range(self.num_episodes):\n",
    "            clear_output(wait=True)\n",
    "            print(\"*****EPISODE \", episode+1, \"*****\\n\\n\\n\\n\")\n",
    "            state = env.reset() / state_max\n",
    "\n",
    "            done = False\n",
    "            rewards_current_episode = 0\n",
    "\n",
    "            while not done:    \n",
    "                if done == True:\n",
    "#                     env.render()\n",
    "                    if reward == 1:\n",
    "                        print(\"****You reached the goal!****\")\n",
    "                        time.sleep(2)\n",
    "                    else:\n",
    "                        print(\"****You fell through a hole!****\")\n",
    "                        time.sleep(1)\n",
    "                        clear_output(wait=True)\n",
    "                    break\n",
    "                else:\n",
    "#                     env.render()\n",
    "#                     print('state:',state )\n",
    "                    action = self.act(state)\n",
    "                    \n",
    "                    new_state, reward, done, info = env.step(action)\n",
    "                    new_state = new_state / state_max\n",
    "                    \n",
    "                    prev_state = state\n",
    "                    prev_pred = self.model(np.array([prev_state]))\n",
    "                    prev_action = tf.argmax(prev_pred[0])\n",
    "                    \n",
    "                    curr_state = new_state\n",
    "\n",
    "                    curr_pred = self.model(np.array([curr_state]))\n",
    "\n",
    "                    curr_value = tf.reduce_sum(curr_pred)\n",
    "                    \n",
    "                    #compute value function\n",
    "                    value = reward * 10 + self.decay_rate * curr_value\n",
    "                    \n",
    "                    #compute exponential moving variance\n",
    "                    delta = value - EMA\n",
    "                    EMA = EMA + EMA_alpha * delta\n",
    "                    EMVar = (1 - EMA_alpha) * (EMVar + EMA_alpha * delta**2)\n",
    "                    \n",
    "                    #print(value,reward,prev_pred[0])\n",
    "                    \n",
    "                    #compute normalised target\n",
    "                    target = prev_pred.numpy()\n",
    "                    target[0][prev_action] = value / EMVar ** 0.5\n",
    "                    \n",
    "                    loss,grads = self.loss_grads(prev_state, target)\n",
    "#                     print('loss:',loss.numpy())\n",
    "                    self.opt.apply_gradients(zip(grads,self.model.trainable_variables))\n",
    "\n",
    "                    state = new_state\n",
    "                    rewards_current_episode += reward\n",
    "            \n",
    "            if self.exploration_rate > self.min_exploration_rate:\n",
    "                self.exploration_rate *= self.exploration_decay_rate\n",
    "                    \n",
    "#             # Exploration rate decay\n",
    "#             self.exploration_rate = self.min_exploration_rate + \\\n",
    "#                 (self.max_exploration_rate - self.min_exploration_rate) * np.exp(-self.exploration_decay_rate*episode)\n",
    "            rewards_all_episodes.append(rewards_current_episode)\n",
    "        return self.num_episodes,self.avg_num_episodes,rewards_all_episodes"
   ]
  },
  {
   "cell_type": "code",
   "execution_count": 5,
   "id": "f1545f61",
   "metadata": {},
   "outputs": [
    {
     "name": "stdout",
     "output_type": "stream",
     "text": [
      "*****EPISODE  10000 *****\n",
      "\n",
      "\n",
      "\n",
      "\n"
     ]
    }
   ],
   "source": [
    "agent = DQNAgent()\n",
    "num_episodes,avg_num_episodes,rewards_all_episodes = agent.nural_net()"
   ]
  },
  {
   "cell_type": "code",
   "execution_count": 6,
   "id": "7566a7ac",
   "metadata": {},
   "outputs": [
    {
     "data": {
      "image/png": "[encoded data removed]",
      "text/plain": [
       "<Figure size 864x576 with 1 Axes>"
      ]
     },
     "metadata": {
      "needs_background": "light"
     },
     "output_type": "display_data"
    }
   ],
   "source": [
    "results = calculateAvgReward(num_episodes,avg_num_episodes,rewards_all_episodes)\n",
    "createLinePlotForRewards(results,avg_num_episodes)"
   ]
  }
 ],
 "metadata": {
  "kernelspec": {
   "display_name": "Python 3",
   "language": "python",
   "name": "python3"
  },
  "language_info": {
   "codemirror_mode": {
    "name": "ipython",
    "version": 3
   },
   "file_extension": ".py",
   "mimetype": "text/x-python",
   "name": "python",
   "nbconvert_exporter": "python",
   "pygments_lexer": "ipython3",
   "version": "3.8.5"
  }
 },
 "nbformat": 4,
 "nbformat_minor": 5
}
