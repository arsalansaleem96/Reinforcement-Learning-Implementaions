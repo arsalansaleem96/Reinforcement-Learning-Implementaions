{
 "cells": [
  {
   "cell_type": "code",
   "execution_count": 1,
   "id": "84ab3f7c",
   "metadata": {},
   "outputs": [],
   "source": [
    "import numpy as np\n",
    "import random\n",
    "import time\n",
    "from IPython.display import clear_output\n",
    "import gym\n",
    "import pandas as pd\n",
    "import seaborn as sns\n",
    "import matplotlib.pyplot as plt\n",
    "import tensorflow as tf"
   ]
  },
  {
   "cell_type": "code",
   "execution_count": 2,
   "id": "882673f1",
   "metadata": {},
   "outputs": [
    {
     "name": "stdout",
     "output_type": "stream",
     "text": [
      "64\n"
     ]
    }
   ],
   "source": [
    "env = gym.make(\"FrozenLake-v0\")\n",
    "INPUT_DIM = 1\n",
    "OUTPUT_DIM = env.action_space.n * env.observation_space.n\n",
    "print(OUTPUT_DIM)"
   ]
  },
  {
   "cell_type": "code",
   "execution_count": 3,
   "id": "ee3f9140",
   "metadata": {},
   "outputs": [],
   "source": [
    "def calculateAvgReward(num_episodes,avg_num_episodes,rewards_all_episodes):\n",
    "        results = []\n",
    "        rewards_per_thousand_episodes = np.split(np.array(rewards_all_episodes),num_episodes/avg_num_episodes)\n",
    "        count = avg_num_episodes\n",
    "        for r in rewards_per_thousand_episodes:\n",
    "#             avg_per_thousand_episode = str(sum(r/self.avg_num_episodes))\n",
    "            sum_of_rewards = sum(r/avg_num_episodes)\n",
    "            results.append({\"episode\":count,\"reward\":sum_of_rewards})\n",
    "            count += avg_num_episodes\n",
    "        return results\n",
    "    \n",
    "def createLinePlotForRewards(results,avg_num_episodes):\n",
    "        df = pd.DataFrame(results)\n",
    "        fig, ax1 = plt.subplots(figsize=(12, 8))\n",
    "        sns.lineplot(data=df, x=\"episode\", y=\"reward\", ax=ax1, ci=None)\n",
    "        ax1.set_ylabel('Rewards',fontsize=13)\n",
    "        ax1.set_xlabel('Episodes',fontsize=13)\n",
    "        ax1.set_title(\"Average reward per \"+str(avg_num_episodes)+\" episodes\",fontsize=16)"
   ]
  },
  {
   "cell_type": "code",
   "execution_count": 4,
   "id": "1b095339",
   "metadata": {},
   "outputs": [],
   "source": [
    "class DQNAgent:\n",
    "    def __init__(self):\n",
    "        self.num_episodes = 100000\n",
    "        self.avg_num_episodes = round(self.num_episodes/10)\n",
    "        self.learning_rate = 0.1\n",
    "        self.discount_rate = 0.99\n",
    "        self.exploration_rate = 1\n",
    "        self.max_exploration_rate = 1\n",
    "        self.min_exploration_rate = 0.01\n",
    "        self.exploration_decay_rate = 0.001\n",
    "        self.model = self.build_model()\n",
    "        self.opt = tf.optimizers.Adam(0.001)\n",
    "    \n",
    "    def build_model(self):\n",
    "        inputs = tf.keras.layers.Input(INPUT_DIM)\n",
    "        net = tf.keras.layers.Dense(16,activation='tanh')(inputs)\n",
    "        net = tf.keras.layers.Dense(16,activation='tanh')(net)\n",
    "        outputs = tf.keras.layers.Dense(OUTPUT_DIM)(net)\n",
    "        model = tf.keras.Model(inputs,outputs)\n",
    "        return model\n",
    "    def loss_grads(self,state, target):\n",
    "        with tf.GradientTape(persistent=True) as tape:\n",
    "            pred = self.model(np.array([state]))\n",
    "            loss = tf.reduce_mean(tf.square(pred-target))\n",
    "        grads = tape.gradient(loss,self.model.trainable_variables)\n",
    "        return loss, grads\n",
    "    \n",
    "    def nural_net(self):\n",
    "    \n",
    "        rewards_all_episodes = []\n",
    "\n",
    "        # Q-Learning algorithm\n",
    "        for episode in range(self.num_episodes):\n",
    "            state = env.reset()\n",
    "\n",
    "            done = False\n",
    "            rewards_current_episode = 0\n",
    "\n",
    "            while not done: \n",
    "                if done == True: \n",
    "                    break\n",
    "                else:\n",
    "                    # Exploration-exploitation trade-off\n",
    "                    self.exploration_rate_threshold = random.uniform(0, 1)\n",
    "                    if self.exploration_rate_threshold > self.exploration_rate:\n",
    "                        action = np.argmax(self.model.predict([state])) # Exploitation\n",
    "                        print(action)\n",
    "                    else:\n",
    "                        action = env.action_space.sample() # Exploration\n",
    "                        print('exp act:',action)\n",
    "\n",
    "                    new_state, reward, done, info = env.step(action)\n",
    "\n",
    "\n",
    "\n",
    "                    prev_state = state\n",
    "                    prev_pred = self.model(np.array([prev_state]))\n",
    "                    prev_action = tf.argmax(prev_pred)\n",
    "                    \n",
    "                    curr_state = new_state\n",
    "\n",
    "                    curr_pred = self.model(np.array([curr_state]))\n",
    "\n",
    "                    curr_value = tf.reduce_sum(curr_pred)\n",
    "\n",
    "                    target = prev_pred.numpy()\n",
    "                    target[prev_action] = reward + self.exploration_decay_rate * curr_value\n",
    "\n",
    "                    self.exploration_rate *= 0.001\n",
    "\n",
    "                    loss,grads = self.loss_grads(prev_state, target)\n",
    "                    self.opt.apply_gradients(zip(grads,self.model.trainable_variables))\n",
    "\n",
    "                    state = new_state\n",
    "                    rewards_current_episode += reward\n",
    "            # Exploration rate decay\n",
    "            self.exploration_rate = self.min_exploration_rate + \\\n",
    "                (self.max_exploration_rate - self.min_exploration_rate) * np.exp(-self.exploration_decay_rate*episode)\n",
    "\n",
    "\n",
    "            rewards_all_episodes.append(rewards_current_episode)\n",
    "\n",
    "\n",
    "        results = calculateAvgReward(self.num_episodes,self.avg_num_episodes,rewards_all_episodes)\n",
    "        createLinePlotForRewards(results,self.avg_num_episodes)\n",
    "\n",
    "        return q_table"
   ]
  },
  {
   "cell_type": "code",
   "execution_count": 5,
   "id": "f1545f61",
   "metadata": {},
   "outputs": [
    {
     "name": "stdout",
     "output_type": "stream",
     "text": [
      "exp act: 2\n",
      "0\n",
      "0\n",
      "0\n",
      "20\n"
     ]
    },
    {
     "ename": "KeyError",
     "evalue": "20",
     "output_type": "error",
     "traceback": [
      "\u001b[0;31m---------------------------------------------------------------------------\u001b[0m",
      "\u001b[0;31mKeyError\u001b[0m                                  Traceback (most recent call last)",
      "\u001b[0;32m<ipython-input-5-9d68cd36f545>\u001b[0m in \u001b[0;36m<module>\u001b[0;34m\u001b[0m\n\u001b[1;32m      1\u001b[0m \u001b[0magent\u001b[0m \u001b[0;34m=\u001b[0m \u001b[0mDQNAgent\u001b[0m\u001b[0;34m(\u001b[0m\u001b[0;34m)\u001b[0m\u001b[0;34m\u001b[0m\u001b[0;34m\u001b[0m\u001b[0m\n\u001b[0;32m----> 2\u001b[0;31m \u001b[0mnew_qtable\u001b[0m \u001b[0;34m=\u001b[0m \u001b[0magent\u001b[0m\u001b[0;34m.\u001b[0m\u001b[0mnural_net\u001b[0m\u001b[0;34m(\u001b[0m\u001b[0;34m)\u001b[0m\u001b[0;34m\u001b[0m\u001b[0;34m\u001b[0m\u001b[0m\n\u001b[0m",
      "\u001b[0;32m<ipython-input-4-9eaea59f9b77>\u001b[0m in \u001b[0;36mnural_net\u001b[0;34m(self)\u001b[0m\n\u001b[1;32m     50\u001b[0m                         \u001b[0mprint\u001b[0m\u001b[0;34m(\u001b[0m\u001b[0;34m'exp act:'\u001b[0m\u001b[0;34m,\u001b[0m\u001b[0maction\u001b[0m\u001b[0;34m)\u001b[0m\u001b[0;34m\u001b[0m\u001b[0;34m\u001b[0m\u001b[0m\n\u001b[1;32m     51\u001b[0m \u001b[0;34m\u001b[0m\u001b[0m\n\u001b[0;32m---> 52\u001b[0;31m                     \u001b[0mnew_state\u001b[0m\u001b[0;34m,\u001b[0m \u001b[0mreward\u001b[0m\u001b[0;34m,\u001b[0m \u001b[0mdone\u001b[0m\u001b[0;34m,\u001b[0m \u001b[0minfo\u001b[0m \u001b[0;34m=\u001b[0m \u001b[0menv\u001b[0m\u001b[0;34m.\u001b[0m\u001b[0mstep\u001b[0m\u001b[0;34m(\u001b[0m\u001b[0maction\u001b[0m\u001b[0;34m)\u001b[0m\u001b[0;34m\u001b[0m\u001b[0;34m\u001b[0m\u001b[0m\n\u001b[0m\u001b[1;32m     53\u001b[0m \u001b[0;34m\u001b[0m\u001b[0m\n\u001b[1;32m     54\u001b[0m \u001b[0;34m\u001b[0m\u001b[0m\n",
      "\u001b[0;32m~/.local/lib/python3.8/site-packages/gym/wrappers/time_limit.py\u001b[0m in \u001b[0;36mstep\u001b[0;34m(self, action)\u001b[0m\n\u001b[1;32m     14\u001b[0m     \u001b[0;32mdef\u001b[0m \u001b[0mstep\u001b[0m\u001b[0;34m(\u001b[0m\u001b[0mself\u001b[0m\u001b[0;34m,\u001b[0m \u001b[0maction\u001b[0m\u001b[0;34m)\u001b[0m\u001b[0;34m:\u001b[0m\u001b[0;34m\u001b[0m\u001b[0;34m\u001b[0m\u001b[0m\n\u001b[1;32m     15\u001b[0m         \u001b[0;32massert\u001b[0m \u001b[0mself\u001b[0m\u001b[0;34m.\u001b[0m\u001b[0m_elapsed_steps\u001b[0m \u001b[0;32mis\u001b[0m \u001b[0;32mnot\u001b[0m \u001b[0;32mNone\u001b[0m\u001b[0;34m,\u001b[0m \u001b[0;34m\"Cannot call env.step() before calling reset()\"\u001b[0m\u001b[0;34m\u001b[0m\u001b[0;34m\u001b[0m\u001b[0m\n\u001b[0;32m---> 16\u001b[0;31m         \u001b[0mobservation\u001b[0m\u001b[0;34m,\u001b[0m \u001b[0mreward\u001b[0m\u001b[0;34m,\u001b[0m \u001b[0mdone\u001b[0m\u001b[0;34m,\u001b[0m \u001b[0minfo\u001b[0m \u001b[0;34m=\u001b[0m \u001b[0mself\u001b[0m\u001b[0;34m.\u001b[0m\u001b[0menv\u001b[0m\u001b[0;34m.\u001b[0m\u001b[0mstep\u001b[0m\u001b[0;34m(\u001b[0m\u001b[0maction\u001b[0m\u001b[0;34m)\u001b[0m\u001b[0;34m\u001b[0m\u001b[0;34m\u001b[0m\u001b[0m\n\u001b[0m\u001b[1;32m     17\u001b[0m         \u001b[0mself\u001b[0m\u001b[0;34m.\u001b[0m\u001b[0m_elapsed_steps\u001b[0m \u001b[0;34m+=\u001b[0m \u001b[0;36m1\u001b[0m\u001b[0;34m\u001b[0m\u001b[0;34m\u001b[0m\u001b[0m\n\u001b[1;32m     18\u001b[0m         \u001b[0;32mif\u001b[0m \u001b[0mself\u001b[0m\u001b[0;34m.\u001b[0m\u001b[0m_elapsed_steps\u001b[0m \u001b[0;34m>=\u001b[0m \u001b[0mself\u001b[0m\u001b[0;34m.\u001b[0m\u001b[0m_max_episode_steps\u001b[0m\u001b[0;34m:\u001b[0m\u001b[0;34m\u001b[0m\u001b[0;34m\u001b[0m\u001b[0m\n",
      "\u001b[0;32m~/.local/lib/python3.8/site-packages/gym/envs/toy_text/discrete.py\u001b[0m in \u001b[0;36mstep\u001b[0;34m(self, a)\u001b[0m\n\u001b[1;32m     52\u001b[0m \u001b[0;34m\u001b[0m\u001b[0m\n\u001b[1;32m     53\u001b[0m     \u001b[0;32mdef\u001b[0m \u001b[0mstep\u001b[0m\u001b[0;34m(\u001b[0m\u001b[0mself\u001b[0m\u001b[0;34m,\u001b[0m \u001b[0ma\u001b[0m\u001b[0;34m)\u001b[0m\u001b[0;34m:\u001b[0m\u001b[0;34m\u001b[0m\u001b[0;34m\u001b[0m\u001b[0m\n\u001b[0;32m---> 54\u001b[0;31m         \u001b[0mtransitions\u001b[0m \u001b[0;34m=\u001b[0m \u001b[0mself\u001b[0m\u001b[0;34m.\u001b[0m\u001b[0mP\u001b[0m\u001b[0;34m[\u001b[0m\u001b[0mself\u001b[0m\u001b[0;34m.\u001b[0m\u001b[0ms\u001b[0m\u001b[0;34m]\u001b[0m\u001b[0;34m[\u001b[0m\u001b[0ma\u001b[0m\u001b[0;34m]\u001b[0m\u001b[0;34m\u001b[0m\u001b[0;34m\u001b[0m\u001b[0m\n\u001b[0m\u001b[1;32m     55\u001b[0m         \u001b[0mi\u001b[0m \u001b[0;34m=\u001b[0m \u001b[0mcategorical_sample\u001b[0m\u001b[0;34m(\u001b[0m\u001b[0;34m[\u001b[0m\u001b[0mt\u001b[0m\u001b[0;34m[\u001b[0m\u001b[0;36m0\u001b[0m\u001b[0;34m]\u001b[0m \u001b[0;32mfor\u001b[0m \u001b[0mt\u001b[0m \u001b[0;32min\u001b[0m \u001b[0mtransitions\u001b[0m\u001b[0;34m]\u001b[0m\u001b[0;34m,\u001b[0m \u001b[0mself\u001b[0m\u001b[0;34m.\u001b[0m\u001b[0mnp_random\u001b[0m\u001b[0;34m)\u001b[0m\u001b[0;34m\u001b[0m\u001b[0;34m\u001b[0m\u001b[0m\n\u001b[1;32m     56\u001b[0m         \u001b[0mp\u001b[0m\u001b[0;34m,\u001b[0m \u001b[0ms\u001b[0m\u001b[0;34m,\u001b[0m \u001b[0mr\u001b[0m\u001b[0;34m,\u001b[0m \u001b[0md\u001b[0m\u001b[0;34m=\u001b[0m \u001b[0mtransitions\u001b[0m\u001b[0;34m[\u001b[0m\u001b[0mi\u001b[0m\u001b[0;34m]\u001b[0m\u001b[0;34m\u001b[0m\u001b[0;34m\u001b[0m\u001b[0m\n",
      "\u001b[0;31mKeyError\u001b[0m: 20"
     ]
    }
   ],
   "source": [
    "agent = DQNAgent()\n",
    "new_qtable = agent.nural_net()"
   ]
  }
 ],
 "metadata": {
  "kernelspec": {
   "display_name": "Python 3",
   "language": "python",
   "name": "python3"
  },
  "language_info": {
   "codemirror_mode": {
    "name": "ipython",
    "version": 3
   },
   "file_extension": ".py",
   "mimetype": "text/x-python",
   "name": "python",
   "nbconvert_exporter": "python",
   "pygments_lexer": "ipython3",
   "version": "3.8.5"
  }
 },
 "nbformat": 4,
 "nbformat_minor": 5
}
