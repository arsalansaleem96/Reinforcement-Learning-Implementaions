{
 "cells": [
  {
   "cell_type": "code",
   "execution_count": 6,
   "id": "1621b052",
   "metadata": {},
   "outputs": [],
   "source": [
    "import numpy as np\n",
    "import random\n",
    "import time\n",
    "from IPython.display import clear_output\n",
    "import gym\n",
    "import pandas as pd\n",
    "import seaborn as sns\n",
    "import matplotlib.pyplot as plt"
   ]
  },
  {
   "cell_type": "code",
   "execution_count": 7,
   "id": "6689aba5",
   "metadata": {},
   "outputs": [],
   "source": [
    "env = gym.make(\"FrozenLake-v0\")"
   ]
  },
  {
   "cell_type": "code",
   "execution_count": 8,
   "id": "8c518758",
   "metadata": {},
   "outputs": [],
   "source": [
    "def calculateAvgReward(num_episodes,avg_num_episodes,rewards_all_episodes):\n",
    "        results = []\n",
    "        rewards_per_thousand_episodes = np.split(np.array(rewards_all_episodes),num_episodes/avg_num_episodes)\n",
    "        count = avg_num_episodes\n",
    "        for r in rewards_per_thousand_episodes:\n",
    "            sum_of_rewards = sum(r/avg_num_episodes)\n",
    "            results.append({\"episode\":count,\"reward\":sum_of_rewards})\n",
    "            count += avg_num_episodes\n",
    "        return results\n",
    "    \n",
    "def createLinePlotForRewards(results,avg_num_episodes):\n",
    "        df = pd.DataFrame(results)\n",
    "        fig, ax1 = plt.subplots(figsize=(12, 8))\n",
    "        sns.lineplot(data=df, x=\"episode\", y=\"reward\", ax=ax1, ci=None)\n",
    "        ax1.set_ylabel('Rewards',fontsize=13)\n",
    "        ax1.set_xlabel('Episodes',fontsize=13)\n",
    "        ax1.set_title(\"Average reward per \"+str(avg_num_episodes)+\" episodes\",fontsize=16)"
   ]
  },
  {
   "cell_type": "code",
   "execution_count": 9,
   "id": "7933d9f4",
   "metadata": {},
   "outputs": [],
   "source": [
    "class Agent:\n",
    "    def __init__(self):\n",
    "        self.num_episodes = 10000\n",
    "        self.avg_num_episodes = round(self.num_episodes/10)\n",
    "        self.learning_rate = 0.1\n",
    "        self.discount_rate = 0.99\n",
    "        self.exploration_rate = 1\n",
    "        self.max_exploration_rate = 1\n",
    "        self.min_exploration_rate = 0.01\n",
    "        self.exploration_decay_rate = 0.001\n",
    "        self.q_table = self.buildQTable()\n",
    "    \n",
    "    def buildQTable(self):\n",
    "        action_space_size = env.action_space.n\n",
    "        state_space_size = env.observation_space.n\n",
    "        q_table = np.zeros((state_space_size, action_space_size))\n",
    "        return q_table\n",
    "    \n",
    "    def qLearning(self):\n",
    "        rewards_all_episodes = []\n",
    "\n",
    "        # Q-Learning algorithm\n",
    "        for episode in range(self.num_episodes):\n",
    "            state = env.reset()\n",
    "            clear_output(wait=True)\n",
    "            print(\"*****EPISODE \", episode+1, \"*****\\n\\n\\n\\n\")\n",
    "\n",
    "            done = False\n",
    "            rewards_current_episode = 0\n",
    "\n",
    "            while not done: \n",
    "                if done: \n",
    "                    clear_output(wait=True)\n",
    "                    env.render()\n",
    "                    if reward == 1:\n",
    "                        print(\"****You reached the goal!****\")\n",
    "                        time.sleep(3)\n",
    "                    else:\n",
    "                        print(\"****You fell through a hole!****\")\n",
    "                        time.sleep(3)\n",
    "                        clear_output(wait=True)\n",
    "                    break\n",
    "                else:\n",
    "                    # Exploration-exploitation trade-off\n",
    "                    self.exploration_rate_threshold = random.uniform(0, 1)\n",
    "                    if self.exploration_rate_threshold > self.exploration_rate:\n",
    "                        action = np.argmax(self.q_table[state,:]) # Exploitation\n",
    "                    else:\n",
    "                        action = env.action_space.sample() # Exploration\n",
    "\n",
    "                    new_state, reward, done, info = env.step(action)\n",
    "\n",
    "                    # Update Q-table for Q(s,a)\n",
    "                    self.q_table[state, action] = self.q_table[state, action]  + \\\n",
    "                        self.learning_rate * \\\n",
    "                    (reward + self.discount_rate * np.max(self.q_table[new_state, :]) - self.q_table[state, action])\n",
    "\n",
    "                    state = new_state\n",
    "                    rewards_current_episode += reward\n",
    "\n",
    "            # Exploration rate decay\n",
    "            self.exploration_rate = self.min_exploration_rate + \\\n",
    "                (self.max_exploration_rate - self.min_exploration_rate) * np.exp(-self.exploration_decay_rate*episode)\n",
    "\n",
    "\n",
    "            rewards_all_episodes.append(rewards_current_episode)\n",
    "\n",
    "        env.close()\n",
    "        results = calculateAvgReward(self.num_episodes,self.avg_num_episodes,rewards_all_episodes)\n",
    "        createLinePlotForRewards(results,self.avg_num_episodes)"
   ]
  },
  {
   "cell_type": "code",
   "execution_count": 10,
   "id": "d285d8e1",
   "metadata": {},
   "outputs": [
    {
     "name": "stdout",
     "output_type": "stream",
     "text": [
      "*****EPISODE  10000 *****\n",
      "\n",
      "\n",
      "\n",
      "\n"
     ]
    },
    {
     "data": {
      "image/png": "[encoded data removed]",
      "text/plain": [
       "<Figure size 864x576 with 1 Axes>"
      ]
     },
     "metadata": {
      "needs_background": "light"
     },
     "output_type": "display_data"
    }
   ],
   "source": [
    "agent = Agent()\n",
    "agent.qLearning()"
   ]
  }
 ],
 "metadata": {
  "kernelspec": {
   "display_name": "Python 3",
   "language": "python",
   "name": "python3"
  },
  "language_info": {
   "codemirror_mode": {
    "name": "ipython",
    "version": 3
   },
   "file_extension": ".py",
   "mimetype": "text/x-python",
   "name": "python",
   "nbconvert_exporter": "python",
   "pygments_lexer": "ipython3",
   "version": "3.8.5"
  }
 },
 "nbformat": 4,
 "nbformat_minor": 5
}
